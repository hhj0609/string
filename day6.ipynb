{
 "cells": [
  {
   "cell_type": "code",
   "execution_count": 7,
   "id": "1859f670",
   "metadata": {},
   "outputs": [],
   "source": [
    "import random\n",
    "import time\n",
    "from IPython.display import clear_output"
   ]
  },
  {
   "cell_type": "code",
   "execution_count": 2,
   "id": "5d1b8290",
   "metadata": {
    "scrolled": true
   },
   "outputs": [
    {
     "name": "stdout",
     "output_type": "stream",
     "text": [
      "***********\n",
      "***********\n",
      "***********\n",
      "***********\n",
      "***********\n",
      "***********\n",
      "***********\n",
      "***********\n",
      "***********\n",
      "***********\n"
     ]
    }
   ],
   "source": [
    "for _ in range(10):\n",
    "    print('*', end='')\n",
    "    for _ in range(10):\n",
    "        print('*', end='')\n",
    "    print('')"
   ]
  },
  {
   "cell_type": "code",
   "execution_count": 35,
   "id": "c263a193",
   "metadata": {},
   "outputs": [
    {
     "name": "stdout",
     "output_type": "stream",
     "text": [
      "> > > > > > > > > > > > > > > > > > > > > > > > > > > > > >  \n",
      "> > > > > > > > > > > > > > > > > > > > > > > > > > > > > >  \n",
      "> > > > > > > > > > > > > > > > > > > > > > > > > > > > > > "
     ]
    }
   ],
   "source": [
    "for i in range(1,31):\n",
    "    for _ in range(i):\n",
    "        print('>',end=' ')\n",
    "    print(\" \")\n",
    "    for _ in range(i):\n",
    "        print('>',end=' ')\n",
    "    print(\" \")\n",
    "    for _ in range(i):\n",
    "        print('>',end=' ')\n",
    "    time.sleep(0.5)\n",
    "    clear_output(wait=True)"
   ]
  },
  {
   "cell_type": "code",
   "execution_count": 42,
   "id": "c1e7af73",
   "metadata": {
    "scrolled": true
   },
   "outputs": [
    {
     "name": "stdout",
     "output_type": "stream",
     "text": [
      "2\n"
     ]
    }
   ],
   "source": [
    "sum=random.randint(1,4)\n",
    "print(sum)"
   ]
  },
  {
   "cell_type": "code",
   "execution_count": 46,
   "id": "9e78885f",
   "metadata": {},
   "outputs": [
    {
     "name": "stdout",
     "output_type": "stream",
     "text": [
      "fire!\n"
     ]
    }
   ],
   "source": [
    "for i in range(1,10):\n",
    "    print(str(i)+'초')\n",
    "    time.sleep(1)\n",
    "    clear_output(wait=True)\n",
    "print('fire!')"
   ]
  },
  {
   "cell_type": "code",
   "execution_count": 50,
   "id": "b64dbff6",
   "metadata": {},
   "outputs": [
    {
     "name": "stdout",
     "output_type": "stream",
     "text": [
      ">>>>>>>>>>>>>>>>>>>>>>>>>>>>>>>>>>>>>>>>>>>>>>>>>"
     ]
    }
   ],
   "source": [
    "for i in range(50):\n",
    "    for j in range(i):\n",
    "        print(\">\",end='')\n",
    "    time.sleep(0.5)\n",
    "    clear_output(wait=True)"
   ]
  },
  {
   "cell_type": "code",
   "execution_count": 95,
   "id": "7dd55f8b",
   "metadata": {},
   "outputs": [
    {
     "name": "stdout",
     "output_type": "stream",
     "text": [
      "< < < < < < < < < < < < < < < < < < < < < < < < < < < < < < < 30 > > > > > > > > > > > > > > > > > > > "
     ]
    }
   ],
   "source": [
    "for i in range(50):\n",
    "    if(i < 30):\n",
    "        print(\"<\",end=' ')\n",
    "    elif(i == 30):\n",
    "        print('< 30 ',end='')\n",
    "    else:\n",
    "        print(\">\",end=' ')\n",
    "    time.sleep(0.1)\n",
    "clear_output(wait=True)"
   ]
  },
  {
   "cell_type": "code",
   "execution_count": 103,
   "id": "3c80d06d",
   "metadata": {},
   "outputs": [
    {
     "name": "stdout",
     "output_type": "stream",
     "text": [
      "12 : 짝수\n"
     ]
    }
   ],
   "source": [
    "a=12\n",
    "if((a%2)==1):\n",
    "    print(a,\": 홀수\")\n",
    "else:\n",
    "    print(a,': 짝수')"
   ]
  },
  {
   "cell_type": "code",
   "execution_count": 119,
   "id": "bfda6f6d",
   "metadata": {},
   "outputs": [
    {
     "name": "stdout",
     "output_type": "stream",
     "text": [
      "> < > < > < > < > < > < > < > < > < > < > < > < > < > < > < > < > < > < > < > < > < > < > < > < > < "
     ]
    }
   ],
   "source": [
    "for i in range(50):\n",
    "    if((i%2)==1):\n",
    "        print('<', end=' ')\n",
    "    else:\n",
    "        print('>',end=' ')        "
   ]
  },
  {
   "cell_type": "code",
   "execution_count": 140,
   "id": "37c84083",
   "metadata": {},
   "outputs": [
    {
     "name": "stdout",
     "output_type": "stream",
     "text": [
      "당신의 나이를 입력하세요40\n",
      "나이 제한\n",
      "당신의 나이를 입력하세요25\n",
      "통과\n",
      "당신의 나이를 입력하세요10\n",
      "미성년자\n"
     ]
    }
   ],
   "source": [
    "for _ in range(3):\n",
    "    age=input('당신의 나이를 입력하세요')\n",
    "    age=int(age)\n",
    "    if(39>=age>=19):\n",
    "        print('통과')\n",
    "    elif(age>=40):\n",
    "        print('나이 제한')\n",
    "    else:\n",
    "        print('미성년자')"
   ]
  },
  {
   "cell_type": "code",
   "execution_count": null,
   "id": "439b6bf7",
   "metadata": {},
   "outputs": [],
   "source": []
  }
 ],
 "metadata": {
  "kernelspec": {
   "display_name": "Python 3 (ipykernel)",
   "language": "python",
   "name": "python3"
  },
  "language_info": {
   "codemirror_mode": {
    "name": "ipython",
    "version": 3
   },
   "file_extension": ".py",
   "mimetype": "text/x-python",
   "name": "python",
   "nbconvert_exporter": "python",
   "pygments_lexer": "ipython3",
   "version": "3.9.7"
  }
 },
 "nbformat": 4,
 "nbformat_minor": 5
}
