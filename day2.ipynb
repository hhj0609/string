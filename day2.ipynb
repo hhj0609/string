{
 "cells": [
  {
   "cell_type": "code",
   "execution_count": null,
   "id": "314c856f",
   "metadata": {},
   "outputs": [],
   "source": [
    "'he's my friend'"
   ]
  },
  {
   "cell_type": "code",
   "execution_count": null,
   "id": "0af8db5d",
   "metadata": {},
   "outputs": [],
   "source": [
    "\"he's my friend\""
   ]
  },
  {
   "cell_type": "code",
   "execution_count": null,
   "id": "acc743ff",
   "metadata": {},
   "outputs": [],
   "source": [
    "'I say, \"yes\"'"
   ]
  },
  {
   "cell_type": "code",
   "execution_count": null,
   "id": "b73ea04d",
   "metadata": {},
   "outputs": [],
   "source": [
    "num=3.5\n",
    "num"
   ]
  },
  {
   "cell_type": "code",
   "execution_count": null,
   "id": "fe8c5dca",
   "metadata": {},
   "outputs": [],
   "source": [
    "num=3.5\n",
    "print(num)\n",
    "type(num)"
   ]
  },
  {
   "cell_type": "code",
   "execution_count": null,
   "id": "055633c4",
   "metadata": {},
   "outputs": [],
   "source": [
    "exist=True\n",
    "print(exist)"
   ]
  },
  {
   "cell_type": "code",
   "execution_count": null,
   "id": "ff8f892e",
   "metadata": {},
   "outputs": [],
   "source": [
    "exist=False\n",
    "exist"
   ]
  },
  {
   "cell_type": "code",
   "execution_count": null,
   "id": "e7dc9f1d",
   "metadata": {},
   "outputs": [],
   "source": [
    "a=3\n",
    "b=6.5\n",
    "a+b"
   ]
  },
  {
   "cell_type": "code",
   "execution_count": null,
   "id": "e30efe92",
   "metadata": {},
   "outputs": [],
   "source": [
    "age='21'\n",
    "type(age)"
   ]
  },
  {
   "cell_type": "code",
   "execution_count": null,
   "id": "e0b9ad9c",
   "metadata": {
    "scrolled": true
   },
   "outputs": [],
   "source": [
    "age=int(age)\n",
    "print(age+3)"
   ]
  },
  {
   "cell_type": "code",
   "execution_count": null,
   "id": "7a0d5b36",
   "metadata": {},
   "outputs": [],
   "source": [
    "print(int(age)+3)"
   ]
  },
  {
   "cell_type": "code",
   "execution_count": null,
   "id": "24d4b232",
   "metadata": {
    "scrolled": true
   },
   "outputs": [],
   "source": [
    "set(\"he's my friend\")"
   ]
  },
  {
   "cell_type": "code",
   "execution_count": null,
   "id": "3cbcc29c",
   "metadata": {
    "scrolled": true
   },
   "outputs": [],
   "source": [
    "name='하호진'\n",
    "age=26\n",
    "print('저의','이름은',(name)+'이고','나이는',str(age)+'세입니다다다다다아다숭구리당당', sep=' / ')"
   ]
  },
  {
   "cell_type": "code",
   "execution_count": null,
   "id": "9ad18c29",
   "metadata": {},
   "outputs": [],
   "source": [
    "a=3\n",
    "b=4\n",
    "total=(a+b)*3\n",
    "total"
   ]
  },
  {
   "cell_type": "code",
   "execution_count": null,
   "id": "145bf6c7",
   "metadata": {},
   "outputs": [],
   "source": [
    "user='john'\n",
    "name='홍길동'\n",
    "user+name"
   ]
  },
  {
   "cell_type": "code",
   "execution_count": null,
   "id": "eb7f76da",
   "metadata": {
    "scrolled": true
   },
   "outputs": [],
   "source": [
    "print((name)*3)"
   ]
  },
  {
   "cell_type": "code",
   "execution_count": null,
   "id": "cdd09ba6",
   "metadata": {},
   "outputs": [],
   "source": [
    "a=3\n",
    "b=5\n",
    "a>=b"
   ]
  },
  {
   "cell_type": "code",
   "execution_count": null,
   "id": "41950c30",
   "metadata": {},
   "outputs": [],
   "source": [
    "b<a"
   ]
  },
  {
   "cell_type": "code",
   "execution_count": null,
   "id": "655d866b",
   "metadata": {},
   "outputs": [],
   "source": [
    "a>b"
   ]
  },
  {
   "cell_type": "code",
   "execution_count": null,
   "id": "9417dc42",
   "metadata": {},
   "outputs": [],
   "source": [
    "a<b"
   ]
  },
  {
   "cell_type": "code",
   "execution_count": null,
   "id": "9dc78be6",
   "metadata": {},
   "outputs": [],
   "source": [
    "not(a>b)"
   ]
  },
  {
   "cell_type": "code",
   "execution_count": null,
   "id": "197d087e",
   "metadata": {},
   "outputs": [],
   "source": [
    "a=3\n",
    "b=5\n",
    "print(a+b!=7)"
   ]
  },
  {
   "cell_type": "code",
   "execution_count": null,
   "id": "aa9bd7db",
   "metadata": {},
   "outputs": [],
   "source": [
    "a=7\n",
    "b=12\n",
    "(a==b) and (b>3)"
   ]
  },
  {
   "cell_type": "code",
   "execution_count": null,
   "id": "deeafd0b",
   "metadata": {
    "scrolled": true
   },
   "outputs": [],
   "source": [
    "(a!=b) or (a<0)"
   ]
  },
  {
   "cell_type": "code",
   "execution_count": null,
   "id": "60f28b58",
   "metadata": {},
   "outputs": [],
   "source": [
    "cleaning = '청소'\n",
    "dinner = '저녁식사준비'\n",
    "cleaning = True\n",
    "dinner = False\n",
    "done=cleaning and dinner\n",
    "done"
   ]
  },
  {
   "cell_type": "code",
   "execution_count": null,
   "id": "b1de478d",
   "metadata": {},
   "outputs": [],
   "source": [
    "yes=not(cleaning)or (dinner)\n",
    "yes"
   ]
  },
  {
   "cell_type": "code",
   "execution_count": null,
   "id": "0ce43489",
   "metadata": {
    "scrolled": true
   },
   "outputs": [],
   "source": [
    "print('안녕하세요!')"
   ]
  },
  {
   "cell_type": "code",
   "execution_count": null,
   "id": "c557b34d",
   "metadata": {},
   "outputs": [],
   "source": [
    "a='안녕'\n",
    "b=21\n",
    "print(a,b)"
   ]
  },
  {
   "cell_type": "code",
   "execution_count": null,
   "id": "5c202669",
   "metadata": {},
   "outputs": [],
   "source": [
    "age=21\n",
    "print('나이'':',age)"
   ]
  },
  {
   "cell_type": "code",
   "execution_count": null,
   "id": "85f3ec4e",
   "metadata": {},
   "outputs": [],
   "source": [
    "name='홍길동'\n",
    "print('나는',name,'입니다.')"
   ]
  },
  {
   "cell_type": "code",
   "execution_count": null,
   "id": "6e0439a1",
   "metadata": {},
   "outputs": [],
   "source": [
    "a=3\n",
    "b=3.5\n",
    "print(a,'*',b,'=',a*b)"
   ]
  },
  {
   "cell_type": "code",
   "execution_count": null,
   "id": "3014b900",
   "metadata": {},
   "outputs": [],
   "source": [
    "a=3\n",
    "b=5\n",
    "print(a, end='\\t')\n",
    "#print(b)"
   ]
  },
  {
   "cell_type": "code",
   "execution_count": null,
   "id": "efcbbdeb",
   "metadata": {},
   "outputs": [],
   "source": [
    "cloud = '구름'\n",
    "ocean ='바다'\n",
    "up='위'\n",
    "print(ocean,end= (' '+up+' '))\n",
    "print(cloud)"
   ]
  },
  {
   "cell_type": "code",
   "execution_count": null,
   "id": "3861cb0c",
   "metadata": {},
   "outputs": [],
   "source": [
    "a=3\n",
    "b=5\n",
    "c=7\n",
    "print(a,end='\\t')\n",
    "print(b,end='\\t')\n",
    "print(c)"
   ]
  },
  {
   "cell_type": "code",
   "execution_count": null,
   "id": "eff95ec7",
   "metadata": {
    "scrolled": true
   },
   "outputs": [],
   "source": [
    "print(\"%d\" % 3)\n",
    "print(\"%f\" % 3.5)\n",
    "print(\"%s\" % '가')"
   ]
  },
  {
   "cell_type": "code",
   "execution_count": null,
   "id": "acb6a8ce",
   "metadata": {},
   "outputs": [],
   "source": [
    "print(\"%d\" % 3)\n",
    "print(\"%f\" % 3.5)\n",
    "print(\"%d,%f\" % (3,3.5))"
   ]
  },
  {
   "cell_type": "code",
   "execution_count": null,
   "id": "aa1135b1",
   "metadata": {},
   "outputs": [],
   "source": [
    "print(\"%d,%f,%s\" % (3,3.5,'hello'), end= \" / \")\n",
    "print(a)"
   ]
  },
  {
   "cell_type": "code",
   "execution_count": null,
   "id": "e208532a",
   "metadata": {},
   "outputs": [],
   "source": [
    "g=3\n",
    "h=6\n",
    "print(g+h)"
   ]
  },
  {
   "cell_type": "code",
   "execution_count": null,
   "id": "c3c11e14",
   "metadata": {},
   "outputs": [],
   "source": [
    "age=input(\"당신의 나이를 입력하세요.\")\n",
    "print(\"당신의\",age,'세 입니다')"
   ]
  },
  {
   "cell_type": "code",
   "execution_count": null,
   "id": "ccce30ef",
   "metadata": {},
   "outputs": [],
   "source": [
    "type(age)"
   ]
  },
  {
   "cell_type": "code",
   "execution_count": null,
   "id": "22cb3366",
   "metadata": {},
   "outputs": [],
   "source": [
    "print(\"당신은 3년 후\",int(age)+3,'세 입니다')"
   ]
  },
  {
   "cell_type": "code",
   "execution_count": null,
   "id": "800a3bcb",
   "metadata": {},
   "outputs": [],
   "source": [
    "name=input(\"당신의 이름을 입력하세요.\")\n",
    "print('당신의',name,'입니다.')"
   ]
  },
  {
   "cell_type": "code",
   "execution_count": 53,
   "id": "01c9437c",
   "metadata": {
    "collapsed": true
   },
   "outputs": [
    {
     "ename": "NameError",
     "evalue": "name 'name' is not defined",
     "output_type": "error",
     "traceback": [
      "\u001b[1;31m---------------------------------------------------------------------------\u001b[0m",
      "\u001b[1;31mNameError\u001b[0m                                 Traceback (most recent call last)",
      "\u001b[1;32m~\\AppData\\Local\\Temp/ipykernel_14548/1126750303.py\u001b[0m in \u001b[0;36m<module>\u001b[1;34m\u001b[0m\n\u001b[1;32m----> 1\u001b[1;33m \u001b[0mtype\u001b[0m\u001b[1;33m(\u001b[0m\u001b[0mname\u001b[0m\u001b[1;33m)\u001b[0m\u001b[1;33m\u001b[0m\u001b[1;33m\u001b[0m\u001b[0m\n\u001b[0m",
      "\u001b[1;31mNameError\u001b[0m: name 'name' is not defined"
     ]
    }
   ],
   "source": [
    "type(name)"
   ]
  },
  {
   "cell_type": "code",
   "execution_count": 86,
   "id": "f2b9e6f9",
   "metadata": {},
   "outputs": [],
   "source": [
    "import turtle as t\n",
    "t.speed ('fastest')\n",
    "n=100\n",
    "for i in range(n):\n",
    "    t.circle(150)\n",
    "    t.forward(45)\n",
    "    t.left(200)\n",
    "    import math\n",
    "    t.left(90+45)"
   ]
  },
  {
   "cell_type": "code",
   "execution_count": null,
   "id": "3dfbd240",
   "metadata": {},
   "outputs": [],
   "source": []
  }
 ],
 "metadata": {
  "kernelspec": {
   "display_name": "Python 3 (ipykernel)",
   "language": "python",
   "name": "python3"
  },
  "language_info": {
   "codemirror_mode": {
    "name": "ipython",
    "version": 3
   },
   "file_extension": ".py",
   "mimetype": "text/x-python",
   "name": "python",
   "nbconvert_exporter": "python",
   "pygments_lexer": "ipython3",
   "version": "3.9.7"
  }
 },
 "nbformat": 4,
 "nbformat_minor": 5
}
