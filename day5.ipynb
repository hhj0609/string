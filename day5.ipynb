{
 "cells": [
  {
   "cell_type": "code",
   "execution_count": 16,
   "id": "55cfb438",
   "metadata": {},
   "outputs": [],
   "source": [
    "import time\n",
    "import random"
   ]
  },
  {
   "cell_type": "code",
   "execution_count": 45,
   "id": "776a3738",
   "metadata": {
    "scrolled": true
   },
   "outputs": [
    {
     "name": "stdout",
     "output_type": "stream",
     "text": [
      "0 1 2 3 4 5 6 7 8 9 \n",
      "done!\n"
     ]
    }
   ],
   "source": [
    "for i in range(0,10):\n",
    "    print(i,end=' ')\n",
    "print('\\ndone!')"
   ]
  },
  {
   "cell_type": "code",
   "execution_count": 58,
   "id": "cb0b7f88",
   "metadata": {},
   "outputs": [
    {
     "name": "stdout",
     "output_type": "stream",
     "text": [
      "A\n"
     ]
    }
   ],
   "source": [
    "num=65\n",
    "print('%c' % num)"
   ]
  },
  {
   "cell_type": "code",
   "execution_count": 64,
   "id": "1ecf0b6e",
   "metadata": {},
   "outputs": [
    {
     "name": "stdout",
     "output_type": "stream",
     "text": [
      "**********"
     ]
    }
   ],
   "source": [
    "for _ in range(10):\n",
    "    print('*', end='')"
   ]
  },
  {
   "cell_type": "code",
   "execution_count": 77,
   "id": "b4a5b8fb",
   "metadata": {},
   "outputs": [
    {
     "name": "stdout",
     "output_type": "stream",
     "text": [
      "***********\n",
      "***********\n",
      "***********\n",
      "***********\n",
      "***********\n",
      "***********\n",
      "***********\n",
      "***********\n",
      "***********\n",
      "***********\n"
     ]
    }
   ],
   "source": [
    "for _ in range(10):\n",
    "    print('*', end='')\n",
    "    for _ in range(10):\n",
    "        print('*', end='')\n",
    "    print('')"
   ]
  },
  {
   "cell_type": "code",
   "execution_count": 84,
   "id": "a4a233f7",
   "metadata": {
    "scrolled": true
   },
   "outputs": [
    {
     "name": "stdout",
     "output_type": "stream",
     "text": [
      "0\t0\t0\t0\t0\t0\t0\t0\t0\t0\t0\t1\t2\t3\t4\t5\t6\t7\t8\t9\t0\t2\t4\t6\t8\t10\t12\t14\t16\t18\t0\t3\t6\t9\t12\t15\t18\t21\t24\t27\t0\t4\t8\t12\t16\t20\t24\t28\t32\t36\t0\t5\t10\t15\t20\t25\t30\t35\t40\t45\t0\t6\t12\t18\t24\t30\t36\t42\t48\t54\t0\t7\t14\t21\t28\t35\t42\t49\t56\t63\t0\t8\t16\t24\t32\t40\t48\t56\t64\t72\t0\t9\t18\t27\t36\t45\t54\t63\t72\t81\t\n"
     ]
    }
   ],
   "source": [
    "for i in range(0,10):\n",
    "    for j in range(0,10):\n",
    "        print(i*j, end='\\t')\n",
    "print('')"
   ]
  },
  {
   "cell_type": "code",
   "execution_count": 112,
   "id": "d045b436",
   "metadata": {
    "scrolled": true
   },
   "outputs": [
    {
     "name": "stdout",
     "output_type": "stream",
     "text": [
      "[1단]\n",
      "1* 1 = 1\n",
      "1* 2 = 2\n",
      "1* 3 = 3\n",
      "1* 4 = 4\n",
      "1* 5 = 5\n",
      "1* 6 = 6\n",
      "1* 7 = 7\n",
      "1* 8 = 8\n",
      "1* 9 = 9\n"
     ]
    }
   ],
   "source": [
    "print('[1단]')\n",
    "for i in range(1,10):\n",
    "    print('1*',i,'=',1*i)"
   ]
  },
  {
   "cell_type": "code",
   "execution_count": 141,
   "id": "42032495",
   "metadata": {},
   "outputs": [
    {
     "name": "stdout",
     "output_type": "stream",
     "text": [
      "[구구단]\n",
      "\n",
      "[1단]\n",
      "1 * 1 = 9\n",
      "1 * 2 = 18\n",
      "1 * 3 = 27\n",
      "1 * 4 = 36\n",
      "1 * 5 = 45\n",
      "1 * 6 = 54\n",
      "1 * 7 = 63\n",
      "1 * 8 = 72\n",
      "1 * 9 = 81\n",
      "\n",
      "[2단]\n",
      "2 * 1 = 9\n",
      "2 * 2 = 18\n",
      "2 * 3 = 27\n",
      "2 * 4 = 36\n",
      "2 * 5 = 45\n",
      "2 * 6 = 54\n",
      "2 * 7 = 63\n",
      "2 * 8 = 72\n",
      "2 * 9 = 81\n",
      "\n",
      "[3단]\n",
      "3 * 1 = 9\n",
      "3 * 2 = 18\n",
      "3 * 3 = 27\n",
      "3 * 4 = 36\n",
      "3 * 5 = 45\n",
      "3 * 6 = 54\n",
      "3 * 7 = 63\n",
      "3 * 8 = 72\n",
      "3 * 9 = 81\n",
      "\n",
      "[4단]\n",
      "4 * 1 = 9\n",
      "4 * 2 = 18\n",
      "4 * 3 = 27\n",
      "4 * 4 = 36\n",
      "4 * 5 = 45\n",
      "4 * 6 = 54\n",
      "4 * 7 = 63\n",
      "4 * 8 = 72\n",
      "4 * 9 = 81\n",
      "\n",
      "[5단]\n",
      "5 * 1 = 9\n",
      "5 * 2 = 18\n",
      "5 * 3 = 27\n",
      "5 * 4 = 36\n",
      "5 * 5 = 45\n",
      "5 * 6 = 54\n",
      "5 * 7 = 63\n",
      "5 * 8 = 72\n",
      "5 * 9 = 81\n",
      "\n",
      "[6단]\n",
      "6 * 1 = 9\n",
      "6 * 2 = 18\n",
      "6 * 3 = 27\n",
      "6 * 4 = 36\n",
      "6 * 5 = 45\n",
      "6 * 6 = 54\n",
      "6 * 7 = 63\n",
      "6 * 8 = 72\n",
      "6 * 9 = 81\n",
      "\n",
      "[7단]\n",
      "7 * 1 = 9\n",
      "7 * 2 = 18\n",
      "7 * 3 = 27\n",
      "7 * 4 = 36\n",
      "7 * 5 = 45\n",
      "7 * 6 = 54\n",
      "7 * 7 = 63\n",
      "7 * 8 = 72\n",
      "7 * 9 = 81\n",
      "\n",
      "[8단]\n",
      "8 * 1 = 9\n",
      "8 * 2 = 18\n",
      "8 * 3 = 27\n",
      "8 * 4 = 36\n",
      "8 * 5 = 45\n",
      "8 * 6 = 54\n",
      "8 * 7 = 63\n",
      "8 * 8 = 72\n",
      "8 * 9 = 81\n",
      "\n",
      "[9단]\n",
      "9 * 1 = 9\n",
      "9 * 2 = 18\n",
      "9 * 3 = 27\n",
      "9 * 4 = 36\n",
      "9 * 5 = 45\n",
      "9 * 6 = 54\n",
      "9 * 7 = 63\n",
      "9 * 8 = 72\n",
      "9 * 9 = 81\n",
      "\n"
     ]
    }
   ],
   "source": [
    "print('[구구단]')\n",
    "print('')\n",
    "for i in range(1,10):\n",
    "    print('['+str(i)+'단]')\n",
    "    for j in range(1,10):\n",
    "        print(str(i),'*',str(j),'=',j*h)\n",
    "    print('')"
   ]
  },
  {
   "cell_type": "code",
   "execution_count": 144,
   "id": "e2c64436",
   "metadata": {},
   "outputs": [
    {
     "name": "stdout",
     "output_type": "stream",
     "text": [
      "3초\n",
      "2초\n",
      "1초\n",
      "fire!\n"
     ]
    }
   ],
   "source": [
    "print('3초')\n",
    "time.sleep(1)\n",
    "print('2초')\n",
    "time.sleep(1)\n",
    "print('1초')\n",
    "time.sleep(1)\n",
    "print('fire!')"
   ]
  },
  {
   "cell_type": "code",
   "execution_count": 149,
   "id": "0fc61197",
   "metadata": {},
   "outputs": [
    {
     "name": "stdout",
     "output_type": "stream",
     "text": [
      "done!\n"
     ]
    }
   ],
   "source": [
    "from IPython.display import clear_output\n",
    "print('Hello')\n",
    "time.sleep(1)\n",
    "clear_output(wait=True)\n",
    "print('done!')"
   ]
  },
  {
   "cell_type": "code",
   "execution_count": 159,
   "id": "7ea3655d",
   "metadata": {
    "scrolled": true
   },
   "outputs": [
    {
     "name": "stdout",
     "output_type": "stream",
     "text": [
      "fire!\n"
     ]
    }
   ],
   "source": [
    "for i in range(9,-1,-1):\n",
    "    print(str(i)+'초')\n",
    "    time.sleep(1)\n",
    "    clear_output(wait=True)\n",
    "print('fire!')"
   ]
  },
  {
   "cell_type": "code",
   "execution_count": 166,
   "id": "6f5c2735",
   "metadata": {},
   "outputs": [
    {
     "name": "stdout",
     "output_type": "stream",
     "text": [
      "> > > > > > > > > > > > > > > > > > > > "
     ]
    }
   ],
   "source": [
    "for _ in range(20):\n",
    "    print('>',end=' ')\n",
    "    time.sleep(0.5)"
   ]
  },
  {
   "cell_type": "code",
   "execution_count": 205,
   "id": "011de6a0",
   "metadata": {},
   "outputs": [
    {
     "name": "stdout",
     "output_type": "stream",
     "text": [
      "> > > > > > > > > > > > > > > > > > > > > > > > > > > > > >  \n",
      "> > > > > > > > > > > > > > > > > > > > > > > > > > > > > >  \n",
      "> > > > > > > > > > > > > > > > > > > > > > > > > > > > > > "
     ]
    }
   ],
   "source": [
    "for i in range(1,31):\n",
    "    for _ in range(i):\n",
    "        print('>',end=' ')\n",
    "    print(\" \")\n",
    "    for _ in range(i):\n",
    "        print('>',end=' ')\n",
    "    print(\" \")\n",
    "    for _ in range(i):\n",
    "        print('>',end=' ')\n",
    "    time.sleep(0.5)\n",
    "    clear_output(wait=True)"
   ]
  },
  {
   "cell_type": "code",
   "execution_count": 207,
   "id": "01a8e7ae",
   "metadata": {},
   "outputs": [
    {
     "name": "stdout",
     "output_type": "stream",
     "text": [
      "> > > > > > > > > > > > > > > > > > > > > > > > > > > > > > "
     ]
    }
   ],
   "source": [
    "for i in range(1,31):\n",
    "    for _ in range(i):\n",
    "        print('>',end=' ')\n",
    "    time.sleep(0.5)\n",
    "    clear_output(wait=True)"
   ]
  },
  {
   "cell_type": "code",
   "execution_count": 256,
   "id": "e915e648",
   "metadata": {},
   "outputs": [
    {
     "name": "stdout",
     "output_type": "stream",
     "text": [
      "38\n",
      "> > > > > > > > > > > > > > > > > > > > > > > > > > > > > > > > > > > > > > "
     ]
    }
   ],
   "source": [
    "sum=0\n",
    "for i in range(10):\n",
    "    sum+=random.randint(1,6)\n",
    "    print(sum)\n",
    "    for _ in range(sum):\n",
    "        print('>',end=' ')\n",
    "    time.sleep(0.5)\n",
    "    clear_output(wait=True)"
   ]
  },
  {
   "cell_type": "code",
   "execution_count": 340,
   "id": "d27ea235",
   "metadata": {},
   "outputs": [
    {
     "name": "stdout",
     "output_type": "stream",
     "text": [
      "1호 22):> > > > > > > > > > > > > > > > > > > > > >  \n",
      "2호 23):> > > > > > > > > > > > > > > > > > > > > > >  \n",
      "3호 24):> > > > > > > > > > > > > > > > > > > > > > > > "
     ]
    }
   ],
   "source": [
    "#과제 : 경마게임\n",
    "#3마리의 말이 달리기 시합 누가 이겼는지 출력하시오.\n",
    "\n",
    "sum1=0\n",
    "sum2=0\n",
    "sum3=0\n",
    "for _ in range(10):\n",
    "    sum1+=random.randint(1,4)\n",
    "    print('1호',str(sum1)+'):',end='')\n",
    "    for i in range(sum1):\n",
    "        print('>',end=' ')\n",
    "    print(' ')\n",
    "    sum2+=random.randint(1,4)\n",
    "    print('2호',str(sum2)+'):',end='')\n",
    "    for _ in range(sum2):\n",
    "        print('>',end=' ')\n",
    "    print(' ')\n",
    "    sum3+=random.randint(1,4)\n",
    "    print('3호',str(sum3)+'):',end='')\n",
    "    for _ in range(sum3):\n",
    "        print('>',end=' ')\n",
    "    time.sleep(0.5)\n",
    "    clear_output(wait=True)\n"
   ]
  },
  {
   "cell_type": "code",
   "execution_count": null,
   "id": "f2871fdd",
   "metadata": {},
   "outputs": [],
   "source": []
  }
 ],
 "metadata": {
  "kernelspec": {
   "display_name": "Python 3 (ipykernel)",
   "language": "python",
   "name": "python3"
  },
  "language_info": {
   "codemirror_mode": {
    "name": "ipython",
    "version": 3
   },
   "file_extension": ".py",
   "mimetype": "text/x-python",
   "name": "python",
   "nbconvert_exporter": "python",
   "pygments_lexer": "ipython3",
   "version": "3.9.7"
  }
 },
 "nbformat": 4,
 "nbformat_minor": 5
}
