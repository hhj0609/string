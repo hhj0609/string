{
 "cells": [
  {
   "cell_type": "code",
   "execution_count": 52,
   "id": "e881187a",
   "metadata": {
    "scrolled": true
   },
   "outputs": [
    {
     "name": "stdout",
     "output_type": "stream",
     "text": [
      "불합격입니다.\n",
      "hello\n"
     ]
    }
   ],
   "source": [
    "grade=79\n",
    "if(grade>=80):\n",
    "    print('합격입니다.')\n",
    "else:\n",
    "    print(\"불합격입니다.\")\n",
    "print('hello')"
   ]
  },
  {
   "cell_type": "code",
   "execution_count": 35,
   "id": "5bc82a6d",
   "metadata": {},
   "outputs": [
    {
     "name": "stdout",
     "output_type": "stream",
     "text": [
      "당신은 성인입니다.\n"
     ]
    }
   ],
   "source": [
    "age=20\n",
    "if(age>=19):\n",
    "    print('당신은 성인입니다.')"
   ]
  },
  {
   "cell_type": "code",
   "execution_count": 36,
   "id": "e27ee6ca",
   "metadata": {},
   "outputs": [
    {
     "name": "stdout",
     "output_type": "stream",
     "text": [
      "당신은 성인입니다.\n"
     ]
    }
   ],
   "source": [
    "age=19\n",
    "if(age>=19):\n",
    "    print('당신은 성인입니다.')"
   ]
  },
  {
   "cell_type": "code",
   "execution_count": 37,
   "id": "cb88b1a5",
   "metadata": {},
   "outputs": [],
   "source": [
    "age=18\n",
    "if(age>=19):\n",
    "    print('당신은 성인입니다.')"
   ]
  },
  {
   "cell_type": "code",
   "execution_count": 34,
   "id": "c065e3a3",
   "metadata": {},
   "outputs": [
    {
     "name": "stdout",
     "output_type": "stream",
     "text": [
      "당신은 성인입니다.\n"
     ]
    }
   ],
   "source": [
    "age=20\n",
    "if(age>=19):\n",
    "    print('당신은 성인입니다.')\n",
    "else:\n",
    "    print('당신은 미성년자입니다.')"
   ]
  },
  {
   "cell_type": "code",
   "execution_count": 31,
   "id": "d56ea839",
   "metadata": {},
   "outputs": [
    {
     "name": "stdout",
     "output_type": "stream",
     "text": [
      "당신은 성인입니다.\n"
     ]
    }
   ],
   "source": [
    "age=19\n",
    "if(age>=19):\n",
    "    print('당신은 성인입니다.')\n",
    "else:\n",
    "    print('당신은 미성년자입니다.')"
   ]
  },
  {
   "cell_type": "code",
   "execution_count": 32,
   "id": "8b32f81b",
   "metadata": {},
   "outputs": [
    {
     "name": "stdout",
     "output_type": "stream",
     "text": [
      "당신은 미성년자입니다.\n"
     ]
    }
   ],
   "source": [
    "age=18\n",
    "if(age>=19):\n",
    "    print('당신은 성인입니다.')\n",
    "else:\n",
    "    print('당신은 미성년자입니다.')"
   ]
  },
  {
   "cell_type": "code",
   "execution_count": 38,
   "id": "2751b9c5",
   "metadata": {},
   "outputs": [
    {
     "name": "stdout",
     "output_type": "stream",
     "text": [
      "당신은 미성년자입니다.\n"
     ]
    }
   ],
   "source": [
    "age=18\n",
    "if(age>=19):\n",
    "    print('당신은 성인입니다.')\n",
    "else:\n",
    "    print('당신은 미성년자입니다.')"
   ]
  },
  {
   "cell_type": "code",
   "execution_count": 45,
   "id": "7c0bb556",
   "metadata": {},
   "outputs": [
    {
     "name": "stdout",
     "output_type": "stream",
     "text": [
      "당신은 미성년자입니다.\n",
      "4 년 후 성인입니다.\n"
     ]
    }
   ],
   "source": [
    "age=15\n",
    "if(age>=19):\n",
    "    print('당신은 성인입니다.')\n",
    "else:\n",
    "    print('당신은 미성년자입니다.')\n",
    "    print(19-age, '년 후 성인입니다.')"
   ]
  },
  {
   "cell_type": "code",
   "execution_count": 49,
   "id": "ebea7a49",
   "metadata": {},
   "outputs": [
    {
     "name": "stdout",
     "output_type": "stream",
     "text": [
      "당신은 미성년자입니다.\n",
      "1 년 후 성인입니다.\n"
     ]
    }
   ],
   "source": [
    "age=18\n",
    "if(age>=19):\n",
    "    print('당신은 성인입니다.')\n",
    "else:\n",
    "    print('당신은 미성년자입니다.')\n",
    "    print(19-age, '년 후 성인입니다.')"
   ]
  },
  {
   "cell_type": "code",
   "execution_count": 76,
   "id": "b3fb65dc",
   "metadata": {},
   "outputs": [
    {
     "name": "stdout",
     "output_type": "stream",
     "text": [
      "성인입니다.\n",
      "성인이 된 지 2 년 되었습니다.\n"
     ]
    }
   ],
   "source": [
    "age=21\n",
    "if(age>=19):\n",
    "    print('성인입니다.')\n",
    "    print('성인이 된 지',age-19,\"년 되었습니다.\")\n",
    "else:\n",
    "    print('미성년자입니다.')"
   ]
  },
  {
   "cell_type": "code",
   "execution_count": 78,
   "id": "09d23db1",
   "metadata": {},
   "outputs": [
    {
     "name": "stdout",
     "output_type": "stream",
     "text": [
      "성인입니다.\n",
      "성인이 된 지 False 년 되었습니다.\n"
     ]
    }
   ],
   "source": [
    "age=30\n",
    "if(age>=19):\n",
    "    print('성인입니다.')\n",
    "    print('성인이 된 지',age>=19,\"년 되었습니다.\")\n",
    "else:\n",
    "    print('미성년자입니다.')"
   ]
  },
  {
   "cell_type": "code",
   "execution_count": 89,
   "id": "38658646",
   "metadata": {},
   "outputs": [
    {
     "name": "stdout",
     "output_type": "stream",
     "text": [
      "영\n"
     ]
    }
   ],
   "source": [
    "num=0\n",
    "if(num>0):\n",
    "    print('양수')\n",
    "elif(num==0):\n",
    "    print('영')\n",
    "else:\n",
    "    print('음수')"
   ]
  },
  {
   "cell_type": "code",
   "execution_count": 103,
   "id": "987eabf5",
   "metadata": {},
   "outputs": [
    {
     "name": "stdout",
     "output_type": "stream",
     "text": [
      "1\n"
     ]
    }
   ],
   "source": [
    "import random\n",
    "coin=random.randint(1,2)\n",
    "print(coin)"
   ]
  },
  {
   "cell_type": "code",
   "execution_count": 179,
   "id": "82637c18",
   "metadata": {
    "scrolled": true
   },
   "outputs": [
    {
     "name": "stdout",
     "output_type": "stream",
     "text": [
      "6\n"
     ]
    }
   ],
   "source": [
    "dice=random.randint(1,6)\n",
    "print(dice)"
   ]
  },
  {
   "cell_type": "code",
   "execution_count": 322,
   "id": "5dd93145",
   "metadata": {},
   "outputs": [
    {
     "name": "stdout",
     "output_type": "stream",
     "text": [
      "나: 4 컴: 5\n",
      "컴의 승리\n"
     ]
    }
   ],
   "source": [
    "computer=random.randint(1,6)\n",
    "my=random.randint(1,6)\n",
    "print('나:',my,'컴:',computer)\n",
    "if(my>computer):\n",
    "    print('나의 승리')\n",
    "elif(my==computer):\n",
    "    print('무승부')\n",
    "else:\n",
    "    print('컴의 승리')"
   ]
  },
  {
   "cell_type": "code",
   "execution_count": 320,
   "id": "2e4b7a55",
   "metadata": {
    "scrolled": true
   },
   "outputs": [
    {
     "name": "stdout",
     "output_type": "stream",
     "text": [
      "하호진은 운전면허증이 있다\n"
     ]
    }
   ],
   "source": [
    "name='하호진'\n",
    "driver=True\n",
    "if(driver):\n",
    "    print(name+'은','운전면허증이 있다')\n",
    "else:\n",
    "    print(name+'은','운전면허증이 없다')"
   ]
  },
  {
   "cell_type": "code",
   "execution_count": 346,
   "id": "8eb70149",
   "metadata": {},
   "outputs": [
    {
     "name": "stdout",
     "output_type": "stream",
     "text": [
      "안녕!?안녕!?안녕!?"
     ]
    }
   ],
   "source": [
    "for i in range(3):\n",
    "    print('안녕!', end='\\77')"
   ]
  },
  {
   "cell_type": "code",
   "execution_count": 355,
   "id": "046e2e64",
   "metadata": {},
   "outputs": [
    {
     "name": "stdout",
     "output_type": "stream",
     "text": [
      "1\n",
      "1\n",
      "1\n"
     ]
    }
   ],
   "source": [
    "for i in range(3):\n",
    "    print(1)"
   ]
  },
  {
   "cell_type": "code",
   "execution_count": 364,
   "id": "6c23a170",
   "metadata": {},
   "outputs": [
    {
     "name": "stdout",
     "output_type": "stream",
     "text": [
      "2\n",
      "3\n",
      "4\n",
      "5\n",
      "6\n",
      "7\n",
      "8\n",
      "9\n"
     ]
    }
   ],
   "source": [
    "for i in range(2,10):\n",
    "    print(i)"
   ]
  },
  {
   "cell_type": "code",
   "execution_count": 372,
   "id": "f6fcae1f",
   "metadata": {
    "scrolled": false
   },
   "outputs": [
    {
     "name": "stdout",
     "output_type": "stream",
     "text": [
      "3 5 7 "
     ]
    }
   ],
   "source": [
    "for i in range(3,9,2):\n",
    "    print(i, end=' ')"
   ]
  },
  {
   "cell_type": "code",
   "execution_count": 377,
   "id": "ffd2657d",
   "metadata": {},
   "outputs": [
    {
     "name": "stdout",
     "output_type": "stream",
     "text": [
      "3\n",
      "6\n",
      "9\n",
      "12\n"
     ]
    }
   ],
   "source": [
    "for i in range(3,15,3):\n",
    "    print(i)"
   ]
  },
  {
   "cell_type": "code",
   "execution_count": 387,
   "id": "4f987edc",
   "metadata": {
    "scrolled": true
   },
   "outputs": [
    {
     "ename": "TypeError",
     "evalue": "'int' object is not callable",
     "output_type": "error",
     "traceback": [
      "\u001b[1;31m---------------------------------------------------------------------------\u001b[0m",
      "\u001b[1;31mTypeError\u001b[0m                                 Traceback (most recent call last)",
      "\u001b[1;32m~\\AppData\\Local\\Temp/ipykernel_4976/1317392459.py\u001b[0m in \u001b[0;36m<module>\u001b[1;34m\u001b[0m\n\u001b[0;32m      2\u001b[0m \u001b[0mnum\u001b[0m\u001b[1;33m=\u001b[0m\u001b[1;36m5\u001b[0m\u001b[1;33m\u001b[0m\u001b[1;33m\u001b[0m\u001b[0m\n\u001b[0;32m      3\u001b[0m \u001b[0msum\u001b[0m \u001b[1;33m+=\u001b[0m \u001b[0mnum\u001b[0m\u001b[1;33m\u001b[0m\u001b[1;33m\u001b[0m\u001b[0m\n\u001b[1;32m----> 4\u001b[1;33m \u001b[0mprint\u001b[0m\u001b[1;33m(\u001b[0m\u001b[0msum\u001b[0m\u001b[1;33m)\u001b[0m\u001b[1;33m\u001b[0m\u001b[1;33m\u001b[0m\u001b[0m\n\u001b[0m",
      "\u001b[1;31mTypeError\u001b[0m: 'int' object is not callable"
     ]
    }
   ],
   "source": [
    "sum=0\n",
    "num=5\n",
    "sum+=num\n",
    "print(sum)"
   ]
  },
  {
   "cell_type": "code",
   "execution_count": 418,
   "id": "cb83c120",
   "metadata": {},
   "outputs": [
    {
     "ename": "TypeError",
     "evalue": "'int' object is not callable",
     "output_type": "error",
     "traceback": [
      "\u001b[1;31m---------------------------------------------------------------------------\u001b[0m",
      "\u001b[1;31mTypeError\u001b[0m                                 Traceback (most recent call last)",
      "\u001b[1;32m~\\AppData\\Local\\Temp/ipykernel_4976/1412195249.py\u001b[0m in \u001b[0;36m<module>\u001b[1;34m\u001b[0m\n\u001b[0;32m      2\u001b[0m \u001b[1;32mfor\u001b[0m \u001b[0mi\u001b[0m \u001b[1;32min\u001b[0m \u001b[0mrange\u001b[0m\u001b[1;33m(\u001b[0m\u001b[1;36m10\u001b[0m\u001b[1;33m)\u001b[0m\u001b[1;33m:\u001b[0m\u001b[1;33m\u001b[0m\u001b[1;33m\u001b[0m\u001b[0m\n\u001b[0;32m      3\u001b[0m     \u001b[0msum\u001b[0m\u001b[1;33m+=\u001b[0m\u001b[0msum\u001b[0m\u001b[1;33m+\u001b[0m\u001b[0mi\u001b[0m\u001b[1;33m\u001b[0m\u001b[1;33m\u001b[0m\u001b[0m\n\u001b[1;32m----> 4\u001b[1;33m     \u001b[0mprint\u001b[0m\u001b[1;33m(\u001b[0m\u001b[0msum\u001b[0m\u001b[1;33m)\u001b[0m\u001b[1;33m\u001b[0m\u001b[1;33m\u001b[0m\u001b[0m\n\u001b[0m",
      "\u001b[1;31mTypeError\u001b[0m: 'int' object is not callable"
     ]
    }
   ],
   "source": [
    "sum=0\n",
    "for i in range(10):\n",
    "    sum+=sum+i\n",
    "    print(sum)"
   ]
  },
  {
   "cell_type": "code",
   "execution_count": 415,
   "id": "d7321fda",
   "metadata": {},
   "outputs": [
    {
     "ename": "TypeError",
     "evalue": "'int' object is not callable",
     "output_type": "error",
     "traceback": [
      "\u001b[1;31m---------------------------------------------------------------------------\u001b[0m",
      "\u001b[1;31mTypeError\u001b[0m                                 Traceback (most recent call last)",
      "\u001b[1;32m~\\AppData\\Local\\Temp/ipykernel_4976/314023553.py\u001b[0m in \u001b[0;36m<module>\u001b[1;34m\u001b[0m\n\u001b[0;32m      3\u001b[0m \u001b[1;32mfor\u001b[0m \u001b[0mi\u001b[0m \u001b[1;32min\u001b[0m \u001b[0msal\u001b[0m\u001b[1;33m:\u001b[0m\u001b[1;33m\u001b[0m\u001b[1;33m\u001b[0m\u001b[0m\n\u001b[0;32m      4\u001b[0m     \u001b[0msum\u001b[0m\u001b[1;33m+=\u001b[0m\u001b[0mi\u001b[0m\u001b[1;33m;\u001b[0m\u001b[1;33m\u001b[0m\u001b[1;33m\u001b[0m\u001b[0m\n\u001b[1;32m----> 5\u001b[1;33m \u001b[0mprint\u001b[0m\u001b[1;33m(\u001b[0m\u001b[0msum\u001b[0m\u001b[1;33m)\u001b[0m\u001b[1;33m\u001b[0m\u001b[1;33m\u001b[0m\u001b[0m\n\u001b[0m",
      "\u001b[1;31mTypeError\u001b[0m: 'int' object is not callable"
     ]
    }
   ],
   "source": [
    "sum=0\n",
    "sal=[100, 90, 80, 120]\n",
    "for i in sal:\n",
    "    sum+=i;\n",
    "print(sum)"
   ]
  },
  {
   "cell_type": "code",
   "execution_count": 422,
   "id": "e40d69b8",
   "metadata": {},
   "outputs": [
    {
     "ename": "TypeError",
     "evalue": "'int' object is not callable",
     "output_type": "error",
     "traceback": [
      "\u001b[1;31m---------------------------------------------------------------------------\u001b[0m",
      "\u001b[1;31mTypeError\u001b[0m                                 Traceback (most recent call last)",
      "\u001b[1;32m~\\AppData\\Local\\Temp/ipykernel_4976/2700589844.py\u001b[0m in \u001b[0;36m<module>\u001b[1;34m\u001b[0m\n\u001b[0;32m      1\u001b[0m \u001b[1;32mimport\u001b[0m \u001b[0mtime\u001b[0m\u001b[1;33m\u001b[0m\u001b[1;33m\u001b[0m\u001b[0m\n\u001b[1;32m----> 2\u001b[1;33m \u001b[0mprint\u001b[0m\u001b[1;33m(\u001b[0m\u001b[1;34m'3초'\u001b[0m\u001b[1;33m)\u001b[0m\u001b[1;33m\u001b[0m\u001b[1;33m\u001b[0m\u001b[0m\n\u001b[0m\u001b[0;32m      3\u001b[0m \u001b[0mtime\u001b[0m\u001b[1;33m.\u001b[0m\u001b[0msleep\u001b[0m\u001b[1;33m(\u001b[0m\u001b[1;36m1\u001b[0m\u001b[1;33m)\u001b[0m\u001b[1;33m\u001b[0m\u001b[1;33m\u001b[0m\u001b[0m\n\u001b[0;32m      4\u001b[0m \u001b[1;32mimport\u001b[0m \u001b[0mtime\u001b[0m\u001b[1;33m\u001b[0m\u001b[1;33m\u001b[0m\u001b[0m\n\u001b[0;32m      5\u001b[0m \u001b[0mprint\u001b[0m\u001b[1;33m(\u001b[0m\u001b[1;34m'2초'\u001b[0m\u001b[1;33m)\u001b[0m\u001b[1;33m\u001b[0m\u001b[1;33m\u001b[0m\u001b[0m\n",
      "\u001b[1;31mTypeError\u001b[0m: 'int' object is not callable"
     ]
    }
   ],
   "source": [
    "import time\n",
    "print('3초')\n",
    "time.sleep(1)\n",
    "import time\n",
    "print('2초')\n",
    "time.sleep(1)\n",
    "import time\n",
    "print('1초')\n",
    "time.sleep(1)\n",
    "print('fire!')"
   ]
  },
  {
   "cell_type": "code",
   "execution_count": null,
   "id": "7791bb7f",
   "metadata": {},
   "outputs": [],
   "source": []
  }
 ],
 "metadata": {
  "kernelspec": {
   "display_name": "Python 3 (ipykernel)",
   "language": "python",
   "name": "python3"
  },
  "language_info": {
   "codemirror_mode": {
    "name": "ipython",
    "version": 3
   },
   "file_extension": ".py",
   "mimetype": "text/x-python",
   "name": "python",
   "nbconvert_exporter": "python",
   "pygments_lexer": "ipython3",
   "version": "3.9.7"
  }
 },
 "nbformat": 4,
 "nbformat_minor": 5
}
