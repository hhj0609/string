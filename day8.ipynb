{
 "cells": [
  {
   "cell_type": "code",
   "execution_count": 1,
   "id": "b512fc3a",
   "metadata": {},
   "outputs": [],
   "source": [
    "import random\n",
    "import time\n",
    "from IPython.display import clear_output"
   ]
  },
  {
   "cell_type": "code",
   "execution_count": 26,
   "id": "f1c3d245",
   "metadata": {},
   "outputs": [
    {
     "name": "stdout",
     "output_type": "stream",
     "text": [
      "a= 14\n"
     ]
    }
   ],
   "source": [
    "def plus(n1):  #w <- 지역변수\n",
    "    return n1+n2*3\n",
    "a=5\n",
    "ans = plus(a,3)\n",
    "print('a=',plus(a,3))"
   ]
  },
  {
   "cell_type": "code",
   "execution_count": 27,
   "id": "f778a86a",
   "metadata": {},
   "outputs": [
    {
     "data": {
      "text/plain": [
       "4"
      ]
     },
     "execution_count": 27,
     "metadata": {},
     "output_type": "execute_result"
    }
   ],
   "source": [
    "plus(1,1)"
   ]
  },
  {
   "cell_type": "code",
   "execution_count": 138,
   "id": "7559b964",
   "metadata": {},
   "outputs": [
    {
     "name": "stdout",
     "output_type": "stream",
     "text": [
      "나 : 3 컴퓨터 2\n",
      "win:my\n"
     ]
    }
   ],
   "source": [
    "def rand():\n",
    "    return random.randint(1,6)\n",
    "    if (my>com):\n",
    "        print('나의 승리')\n",
    "    elif(my<com):\n",
    "        print('컴퓨터의 승리')\n",
    "    else:\n",
    "        print('무승부')\n",
    "my=rand()\n",
    "com=rand()\n",
    "print('나 :',my,'컴퓨터',com)\n",
    "win(my,com)"
   ]
  },
  {
   "cell_type": "code",
   "execution_count": 187,
   "id": "ef660e90",
   "metadata": {},
   "outputs": [
    {
     "name": "stdout",
     "output_type": "stream",
     "text": [
      "나 : 5 컴퓨터 4\n",
      "win:my\n",
      "나 : 3 컴퓨터 2\n",
      "win:my\n",
      "나 : 4 컴퓨터 6\n",
      "win : com\n",
      "승리 횟 수 : 0\n"
     ]
    }
   ],
   "source": [
    "mf=0\n",
    "cf=0\n",
    "def win(m,c):\n",
    "    if(m>c):\n",
    "        print('win:my')\n",
    "    elif(m<c):\n",
    "        print('win : com')\n",
    "    else:\n",
    "        print('무승부')\n",
    "for i in range(3):\n",
    "    my=rand()\n",
    "    com=rand()\n",
    "    print('나 :',my,'컴퓨터',com)\n",
    "    win(my,com)\n",
    "print('승리 횟 수 :',)"
   ]
  },
  {
   "cell_type": "code",
   "execution_count": 324,
   "id": "6067910f",
   "metadata": {},
   "outputs": [
    {
     "name": "stdout",
     "output_type": "stream",
     "text": [
      "나 : 5 컴퓨터 3\n",
      "나 : 3 컴퓨터 4\n",
      "나 : 2 컴퓨터 3\n",
      "==  승리 횟 수 ==\n",
      "나 : 2\n",
      "컴 : 3\n"
     ]
    }
   ],
   "source": [
    "def rand():\n",
    "    return random.randint(1,6)\n",
    "    if(mt>ct):\n",
    "        print('나의 승리')\n",
    "    elif(mt<ct):\n",
    "        print('컴의 승리')\n",
    "    else:\n",
    "        print('무승부')\n",
    "    print('나의 승리 :',mt)\n",
    "    print('컴의 승리:', ct)\n",
    "mt=0\n",
    "ct=0\n",
    "for i in range(3):\n",
    "    mt=rand()\n",
    "    ct=rand()\n",
    "    print('나 :',mt,'컴퓨터',ct)\n",
    "print('==  승리 횟 수 ==')\n",
    "print('나 :',mt)\n",
    "print('컴 :',ct)"
   ]
  },
  {
   "cell_type": "code",
   "execution_count": 233,
   "id": "80e75cbe",
   "metadata": {},
   "outputs": [
    {
     "name": "stdout",
     "output_type": "stream",
     "text": [
      "합 : 8 곱 : 15\n"
     ]
    }
   ],
   "source": [
    "def calc(a,b):\n",
    "    return a+b, a*b\n",
    "a1,a2 = calc(3,5)\n",
    "print('합 :', a1, '곱 :',a2)"
   ]
  },
  {
   "cell_type": "code",
   "execution_count": 241,
   "id": "718a7b09",
   "metadata": {
    "scrolled": true
   },
   "outputs": [
    {
     "data": {
      "text/plain": [
       "(12, 35)"
      ]
     },
     "execution_count": 241,
     "metadata": {},
     "output_type": "execute_result"
    }
   ],
   "source": [
    "calc(7,5)"
   ]
  },
  {
   "cell_type": "code",
   "execution_count": 244,
   "id": "44594638",
   "metadata": {},
   "outputs": [
    {
     "name": "stdout",
     "output_type": "stream",
     "text": [
      "(8, -2)\n"
     ]
    }
   ],
   "source": [
    "def add_sub(a,b):\n",
    "    sum=a+b\n",
    "    diff=a-b\n",
    "    return sum,diff\n",
    "print(add_sub(3,5))"
   ]
  },
  {
   "cell_type": "code",
   "execution_count": 250,
   "id": "bc7a320a",
   "metadata": {},
   "outputs": [
    {
     "name": "stdout",
     "output_type": "stream",
     "text": [
      "a= 3 b= 5\n",
      "a= 5 b= 3\n"
     ]
    }
   ],
   "source": [
    "a=3\n",
    "b=5\n",
    "print('a=',a,'b=',b)\n",
    "#swap!,temp=b -> b=a -> a=temp\n",
    "temp=b\n",
    "b=a\n",
    "a=temp\n",
    "print('a=',a,'b=',b)"
   ]
  },
  {
   "cell_type": "code",
   "execution_count": 269,
   "id": "6982c777",
   "metadata": {},
   "outputs": [
    {
     "name": "stdout",
     "output_type": "stream",
     "text": [
      "a = 3 b= 5\n",
      "a = 5 b= 3\n"
     ]
    }
   ],
   "source": [
    "def swap(a,b):\n",
    "    temp=b\n",
    "    b=a\n",
    "    a=temp\n",
    "    return a,b\n",
    "a=3\n",
    "b=5\n",
    "print('a =',a,'b=',b)\n",
    "a,b=swap(a,b)\n",
    "print('a =',a,'b=',b)"
   ]
  },
  {
   "cell_type": "code",
   "execution_count": 341,
   "id": "698a0385",
   "metadata": {},
   "outputs": [
    {
     "name": "stdout",
     "output_type": "stream",
     "text": [
      "3!= 6\n"
     ]
    }
   ],
   "source": [
    "#4@ = 3+2+1\n",
    "def factorial(n):\n",
    "    result=1\n",
    "    for i in range(n,0,-1):\n",
    "        result*=i\n",
    "    return result\n",
    "print('4@=',factorial(3))"
   ]
  },
  {
   "cell_type": "code",
   "execution_count": 362,
   "id": "9385ae2c",
   "metadata": {},
   "outputs": [
    {
     "name": "stdout",
     "output_type": "stream",
     "text": [
      "17 @= 153\n"
     ]
    }
   ],
   "source": [
    "def factorial(n):\n",
    "    sum=0\n",
    "    for i in range(n,0,-1):\n",
    "        sum+=i\n",
    "    return sum\n",
    "a=17\n",
    "print(a,'@=', factorial(a))"
   ]
  },
  {
   "cell_type": "code",
   "execution_count": 367,
   "id": "6b310d14",
   "metadata": {},
   "outputs": [
    {
     "data": {
      "text/plain": [
       "171"
      ]
     },
     "execution_count": 367,
     "metadata": {},
     "output_type": "execute_result"
    }
   ],
   "source": [
    "factorial(18)"
   ]
  },
  {
   "cell_type": "code",
   "execution_count": 398,
   "id": "b9a141f3",
   "metadata": {},
   "outputs": [
    {
     "name": "stdout",
     "output_type": "stream",
     "text": [
      "주사위를 몇 번 던지시겠습니까?3\n",
      "주사위의 합 : 16\n"
     ]
    }
   ],
   "source": [
    "def rand():\n",
    "    return random.randint(1,6)\n",
    "sum=0\n",
    "num=input('주사위를 몇 번 던지시겠습니까?')\n",
    "num=int(num)\n",
    "for i in range(num):\n",
    "    sum+=rand()\n",
    "print('주사위의 합 :',sum)\n"
   ]
  },
  {
   "cell_type": "code",
   "execution_count": 418,
   "id": "7d456b43",
   "metadata": {},
   "outputs": [
    {
     "name": "stdout",
     "output_type": "stream",
     "text": [
      "주사위를 몇 번 던지시겠습니까?10\n"
     ]
    },
    {
     "ename": "TypeError",
     "evalue": "plus() missing 1 required positional argument: 'n2'",
     "output_type": "error",
     "traceback": [
      "\u001b[1;31m---------------------------------------------------------------------------\u001b[0m",
      "\u001b[1;31mTypeError\u001b[0m                                 Traceback (most recent call last)",
      "\u001b[1;32m~\\AppData\\Local\\Temp/ipykernel_19888/859743959.py\u001b[0m in \u001b[0;36m<module>\u001b[1;34m\u001b[0m\n\u001b[0;32m      8\u001b[0m \u001b[0mnum\u001b[0m\u001b[1;33m=\u001b[0m\u001b[0minput\u001b[0m\u001b[1;33m(\u001b[0m\u001b[1;34m'주사위를 몇 번 던지시겠습니까?'\u001b[0m\u001b[1;33m)\u001b[0m\u001b[1;33m\u001b[0m\u001b[1;33m\u001b[0m\u001b[0m\n\u001b[0;32m      9\u001b[0m \u001b[0mnum\u001b[0m\u001b[1;33m=\u001b[0m\u001b[0mint\u001b[0m\u001b[1;33m(\u001b[0m\u001b[0mnum\u001b[0m\u001b[1;33m)\u001b[0m\u001b[1;33m\u001b[0m\u001b[1;33m\u001b[0m\u001b[0m\n\u001b[1;32m---> 10\u001b[1;33m \u001b[0md\u001b[0m\u001b[1;33m=\u001b[0m\u001b[0mplus\u001b[0m\u001b[1;33m(\u001b[0m\u001b[0mnum\u001b[0m\u001b[1;33m)\u001b[0m\u001b[1;33m\u001b[0m\u001b[1;33m\u001b[0m\u001b[0m\n\u001b[0m\u001b[0;32m     11\u001b[0m \u001b[0mprint\u001b[0m\u001b[1;33m(\u001b[0m\u001b[1;34m'주사위의 합:'\u001b[0m\u001b[1;33m,\u001b[0m\u001b[0md\u001b[0m\u001b[1;33m)\u001b[0m\u001b[1;33m\u001b[0m\u001b[1;33m\u001b[0m\u001b[0m\n",
      "\u001b[1;31mTypeError\u001b[0m: plus() missing 1 required positional argument: 'n2'"
     ]
    }
   ],
   "source": [
    "def Plus(n3):\n",
    "    sum=0\n",
    "    for i in range(n3):\n",
    "        dice=rand()\n",
    "        print(dice)\n",
    "        sum+=rand()\n",
    "    return sum\n",
    "num=input('주사위를 몇 번 던지시겠습니까?')\n",
    "num=int(num)\n",
    "d=plus(num)\n",
    "print('주사위의 합:',d)"
   ]
  },
  {
   "cell_type": "code",
   "execution_count": 423,
   "id": "4efb3bcb",
   "metadata": {},
   "outputs": [
    {
     "name": "stdout",
     "output_type": "stream",
     "text": [
      "g\n"
     ]
    }
   ],
   "source": [
    "animal='frog'\n",
    "print(animal[-1])"
   ]
  },
  {
   "cell_type": "code",
   "execution_count": 435,
   "id": "d62a33ab",
   "metadata": {},
   "outputs": [
    {
     "name": "stdout",
     "output_type": "stream",
     "text": [
      "lpa\n"
     ]
    }
   ],
   "source": [
    "ani='elephant'\n",
    "print(ani[1:6:2])"
   ]
  },
  {
   "cell_type": "code",
   "execution_count": 430,
   "id": "31b0a4cd",
   "metadata": {},
   "outputs": [
    {
     "name": "stdout",
     "output_type": "stream",
     "text": [
      "8\n"
     ]
    }
   ],
   "source": [
    "ani='elephant'\n",
    "print(len(ani))"
   ]
  },
  {
   "cell_type": "code",
   "execution_count": 433,
   "id": "6bb8be21",
   "metadata": {},
   "outputs": [
    {
     "name": "stdout",
     "output_type": "stream",
     "text": [
      "2\n"
     ]
    }
   ],
   "source": [
    "ani='elephant'\n",
    "print(ani.count('e'))"
   ]
  },
  {
   "cell_type": "code",
   "execution_count": 458,
   "id": "7d087986",
   "metadata": {},
   "outputs": [
    {
     "name": "stdout",
     "output_type": "stream",
     "text": [
      "e l e p h a n t a s d n w p n g n j k v f n r q "
     ]
    }
   ],
   "source": [
    "ani='elephantasdnwpngnjkvfnrq'\n",
    "for i in ani:\n",
    "    print(i,end=' ')"
   ]
  },
  {
   "cell_type": "code",
   "execution_count": null,
   "id": "de27f6e6",
   "metadata": {},
   "outputs": [],
   "source": []
  }
 ],
 "metadata": {
  "kernelspec": {
   "display_name": "Python 3 (ipykernel)",
   "language": "python",
   "name": "python3"
  },
  "language_info": {
   "codemirror_mode": {
    "name": "ipython",
    "version": 3
   },
   "file_extension": ".py",
   "mimetype": "text/x-python",
   "name": "python",
   "nbconvert_exporter": "python",
   "pygments_lexer": "ipython3",
   "version": "3.9.7"
  }
 },
 "nbformat": 4,
 "nbformat_minor": 5
}
