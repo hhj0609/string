{
 "cells": [
  {
   "cell_type": "code",
   "execution_count": 10,
   "id": "c12f2147",
   "metadata": {},
   "outputs": [
    {
     "name": "stdout",
     "output_type": "stream",
     "text": [
      "당신의 나이를 입력하세요.19\n",
      "당신은 성인입니다.\n"
     ]
    }
   ],
   "source": [
    "age=input ('당신의 나이를 입력하세요.' )\n",
    "age=int(age)\n",
    "if(age<19):\n",
    "    print('당신은 미성년자입니다.')\n",
    "else:\n",
    "    print('당신은 성인입니다.')"
   ]
  },
  {
   "cell_type": "code",
   "execution_count": 12,
   "id": "5327098b",
   "metadata": {},
   "outputs": [
    {
     "name": "stdout",
     "output_type": "stream",
     "text": [
      "당신의 점수를 입력하세요.60\n",
      "합격입니다.\n"
     ]
    }
   ],
   "source": [
    "score=input('당신의 점수를 입력하세요.')\n",
    "score=int(score)\n",
    "if(score>=60):\n",
    "    print('합격입니다.')\n",
    "else:\n",
    "    print('불합격입니다.')"
   ]
  },
  {
   "cell_type": "code",
   "execution_count": 63,
   "id": "3611dc23",
   "metadata": {
    "scrolled": true
   },
   "outputs": [
    {
     "name": "stdout",
     "output_type": "stream",
     "text": [
      "당신의 나이를 입력하세요.28\n",
      "당신은 청년입니다.\n"
     ]
    }
   ],
   "source": [
    "age=input ('당신의 나이를 입력하세요.' )\n",
    "age=int(age)\n",
    "if(age<19):\n",
    "    print('당신은 미성년자입니다.')\n",
    "elif(age<30):\n",
    "    print('당신은 청년입니다.')\n",
    "else:\n",
    "    print('당신은 중년입니다.')"
   ]
  },
  {
   "cell_type": "code",
   "execution_count": 74,
   "id": "03adf7c4",
   "metadata": {},
   "outputs": [
    {
     "name": "stdout",
     "output_type": "stream",
     "text": [
      "당신의 성적을 입력하세요.81\n",
      "B\n"
     ]
    }
   ],
   "source": [
    "score=input('당신의 성적을 입력하세요.')\n",
    "score=int(score)\n",
    "if(score>=90):\n",
    "    print('A')\n",
    "elif(score>=80):\n",
    "    print('B')\n",
    "else:\n",
    "    print('C')"
   ]
  },
  {
   "cell_type": "code",
   "execution_count": 101,
   "id": "73f5a0ce",
   "metadata": {
    "scrolled": false
   },
   "outputs": [
    {
     "name": "stdout",
     "output_type": "stream",
     "text": [
      "당신의 성적을 입력하세요.81\n",
      "A\n"
     ]
    }
   ],
   "source": [
    "score=input('당신의 성적을 입력하세요.')\n",
    "score=int(score)\n",
    "if(90>score>=80):\n",
    "    print('A')\n",
    "elif(70>score>=60):\n",
    "    print('B')\n",
    "else:\n",
    "    print('C')"
   ]
  },
  {
   "cell_type": "code",
   "execution_count": 115,
   "id": "cee0edbf",
   "metadata": {},
   "outputs": [
    {
     "name": "stdout",
     "output_type": "stream",
     "text": [
      "당신의 성적을 입력하세요.89\n",
      "A\n"
     ]
    }
   ],
   "source": [
    "score=input('당신의 성적을 입력하세요.')\n",
    "score=int(score)\n",
    "if((score>=80)and(score<90)):\n",
    "    print('A')\n",
    "if((score>=60)and(score<70)):\n",
    "    print('B')"
   ]
  },
  {
   "cell_type": "code",
   "execution_count": 120,
   "id": "2ab5f1da",
   "metadata": {},
   "outputs": [
    {
     "name": "stdout",
     "output_type": "stream",
     "text": [
      "5\n"
     ]
    }
   ],
   "source": [
    "sum=0\n",
    "num=5\n",
    "sum+=num\n",
    "print(sum)"
   ]
  },
  {
   "cell_type": "code",
   "execution_count": 130,
   "id": "a76bed4b",
   "metadata": {},
   "outputs": [
    {
     "name": "stdout",
     "output_type": "stream",
     "text": [
      "0123456789"
     ]
    }
   ],
   "source": [
    "for i in range(10):\n",
    "    print(i ,end='')"
   ]
  },
  {
   "cell_type": "code",
   "execution_count": 133,
   "id": "564f27aa",
   "metadata": {
    "scrolled": true
   },
   "outputs": [
    {
     "name": "stdout",
     "output_type": "stream",
     "text": [
      "-5 -4 -3 -2 -1 0 "
     ]
    }
   ],
   "source": [
    "for i in range(-5,1):\n",
    "    print(i, end=' ')"
   ]
  },
  {
   "cell_type": "code",
   "execution_count": 50,
   "id": "0f91b78b",
   "metadata": {
    "scrolled": true
   },
   "outputs": [
    {
     "name": "stdout",
     "output_type": "stream",
     "text": [
      "9 8 7 6 5 4 3 2 1 0 "
     ]
    }
   ],
   "source": [
    "for i in range(9,-1,-1):\n",
    "    print(i, end=\" \")"
   ]
  },
  {
   "cell_type": "code",
   "execution_count": 84,
   "id": "045ea5ea",
   "metadata": {},
   "outputs": [
    {
     "name": "stdout",
     "output_type": "stream",
     "text": [
      "9초 8초 7초 6초 5초 4초 3초 2초 1초 0초 fire!\n"
     ]
    }
   ],
   "source": [
    "for i in range(9,-1,-1):\n",
    "    print(str(i)+'초', end=' ')\n",
    "    time. sleep(1)\n",
    "print('fire!')"
   ]
  },
  {
   "cell_type": "code",
   "execution_count": 53,
   "id": "39a112fb",
   "metadata": {},
   "outputs": [
    {
     "name": "stdout",
     "output_type": "stream",
     "text": [
      "1\n"
     ]
    }
   ],
   "source": [
    "import random\n",
    "coin=random.randint(1,2)\n",
    "print(coin)"
   ]
  },
  {
   "cell_type": "code",
   "execution_count": 43,
   "id": "c7345192",
   "metadata": {},
   "outputs": [
    {
     "name": "stdout",
     "output_type": "stream",
     "text": [
      "나: 3 컴퓨터: 2\n",
      "나의 승리\n",
      "나: 2 컴퓨터: 6\n",
      "컴퓨터 승리\n",
      "나: 5 컴퓨터: 3\n",
      "나의 승리\n",
      "---전적---\n",
      "나의 총 승리 횟수: 2\n",
      "컴퓨터의 총 승리 횟수: 1\n",
      "무승부 횟수: 0\n"
     ]
    }
   ],
   "source": [
    "import random\n",
    "import time\n",
    "mw = 0\n",
    "cw = 0\n",
    "even=0\n",
    "for i in range(3):\n",
    "    my=random.randint(1,6)\n",
    "    computer=random.randint(1,6)\n",
    "    print('나:',my, '컴퓨터:',computer)\n",
    "    if(my>computer):\n",
    "        print('나의 승리')\n",
    "        mw=mw+1\n",
    "    elif(my<computer):\n",
    "        print('컴퓨터 승리')\n",
    "        cw=cw+1\n",
    "    else:\n",
    "        print('무승부')\n",
    "        even=even+1\n",
    "print('---전적---')\n",
    "print('나의 총 승리 횟수:',mw)\n",
    "print('컴퓨터의 총 승리 횟수:',cw)\n",
    "print('무승부 횟수:',even)"
   ]
  },
  {
   "cell_type": "code",
   "execution_count": 83,
   "id": "f4622f23",
   "metadata": {},
   "outputs": [
    {
     "name": "stdout",
     "output_type": "stream",
     "text": [
      "나: 13 로또: 13\n",
      "당첨\n",
      "나: 31 로또: 15\n",
      "꽝\n",
      "나: 16 로또: 16\n",
      "당첨\n",
      "나: 10 로또: 36\n",
      "꽝\n",
      "나: 10 로또: 41\n",
      "꽝\n",
      "나: 8 로또: 20\n",
      "꽝\n",
      "나: 20 로또: 21\n",
      "꽝\n",
      "당첨 횟 수 : 2\n",
      "꽝 횟 수 : 5\n"
     ]
    }
   ],
   "source": [
    "import random\n",
    "md=0\n",
    "ld=0\n",
    "for i in range(7):\n",
    "    my=random.randint(1,45)\n",
    "    lotto=random.randint(1,45)\n",
    "    print('나:',my,'로또:',lotto)\n",
    "    if(my==lotto):\n",
    "        print('당첨')\n",
    "        md+=1\n",
    "        \n",
    "    else:\n",
    "        print('꽝')\n",
    "        ld+=1\n",
    "print('당첨 횟 수 :',md)\n",
    "print('꽝 횟 수 :',ld)"
   ]
  },
  {
   "cell_type": "code",
   "execution_count": 119,
   "id": "8d5147b6",
   "metadata": {
    "scrolled": true
   },
   "outputs": [
    {
     "name": "stdout",
     "output_type": "stream",
     "text": [
      "3\n",
      "5\n",
      "7\n"
     ]
    }
   ],
   "source": [
    "for i in range(3,9,2):\n",
    "    print(i)"
   ]
  },
  {
   "cell_type": "code",
   "execution_count": 145,
   "id": "84cb2080",
   "metadata": {
    "scrolled": true
   },
   "outputs": [
    {
     "name": "stdout",
     "output_type": "stream",
     "text": [
      "합계: 55\n"
     ]
    }
   ],
   "source": [
    "sum=0\n",
    "for i in range(1,11):\n",
    "    sum+=i\n",
    "print('합계:',sum)"
   ]
  },
  {
   "cell_type": "code",
   "execution_count": 1,
   "id": "6aca4186",
   "metadata": {},
   "outputs": [
    {
     "name": "stdout",
     "output_type": "stream",
     "text": [
      "0\t0\t0\t0\t0\t0\t0\t0\t0\t0\t\n",
      "0\t1\t2\t3\t4\t5\t6\t7\t8\t9\t\n",
      "0\t2\t4\t6\t8\t10\t12\t14\t16\t18\t\n",
      "0\t3\t6\t9\t12\t15\t18\t21\t24\t27\t\n",
      "0\t4\t8\t12\t16\t20\t24\t28\t32\t36\t\n",
      "0\t5\t10\t15\t20\t25\t30\t35\t40\t45\t\n",
      "0\t6\t12\t18\t24\t30\t36\t42\t48\t54\t\n",
      "0\t7\t14\t21\t28\t35\t42\t49\t56\t63\t\n",
      "0\t8\t16\t24\t32\t40\t48\t56\t64\t72\t\n",
      "0\t9\t18\t27\t36\t45\t54\t63\t72\t81\t\n"
     ]
    }
   ],
   "source": [
    "for i in range(10):\n",
    "        for j in range(10):\n",
    "            print(i*j,end='\\t')\n",
    "        print('')"
   ]
  },
  {
   "cell_type": "code",
   "execution_count": 212,
   "id": "afa24763",
   "metadata": {},
   "outputs": [
    {
     "name": "stdout",
     "output_type": "stream",
     "text": [
      "0 0 0 \n",
      "0 0 0 \n",
      "0 0 0 \n",
      "0 0 0 \n",
      "0 1 2 \n",
      "0 2 4 \n",
      "0 0 0 \n",
      "0 2 4 \n",
      "0 4 8 \n"
     ]
    }
   ],
   "source": [
    "for i in range(3):\n",
    "    for j in range(3):\n",
    "        for h in range(3):\n",
    "            print(i*j*h,end=\" \")\n",
    "        print('')"
   ]
  }
 ],
 "metadata": {
  "kernelspec": {
   "display_name": "Python 3 (ipykernel)",
   "language": "python",
   "name": "python3"
  },
  "language_info": {
   "codemirror_mode": {
    "name": "ipython",
    "version": 3
   },
   "file_extension": ".py",
   "mimetype": "text/x-python",
   "name": "python",
   "nbconvert_exporter": "python",
   "pygments_lexer": "ipython3",
   "version": "3.9.7"
  }
 },
 "nbformat": 4,
 "nbformat_minor": 5
}
