{
 "cells": [
  {
   "cell_type": "code",
   "execution_count": 8,
   "id": "3a1b927a",
   "metadata": {},
   "outputs": [],
   "source": [
    "import random\n",
    "import time\n",
    "from IPython.display import clear_output"
   ]
  },
  {
   "cell_type": "code",
   "execution_count": 12,
   "id": "bfdb8fb1",
   "metadata": {},
   "outputs": [
    {
     "name": "stdout",
     "output_type": "stream",
     "text": [
      "4\n",
      "2\n",
      "2\n"
     ]
    }
   ],
   "source": [
    "for i in range(3):\n",
    "    age=random.randint(1,4)\n",
    "    print(age)"
   ]
  },
  {
   "cell_type": "code",
   "execution_count": 164,
   "id": "83e69116",
   "metadata": {},
   "outputs": [
    {
     "name": "stdout",
     "output_type": "stream",
     "text": [
      "=====경마장======\n",
      "Winner : 3호 : 26\n",
      "1호 24):> > > > > > > > > > > > > > > > > > > > > > > >  \n",
      "2호 21):> > > > > > > > > > > > > > > > > > > > >  \n",
      "3호 26):> > > > > > > > > > > > > > > > > > > > > > > > > > "
     ]
    }
   ],
   "source": [
    "sum1=0\n",
    "sum2=0\n",
    "sum3=0\n",
    "for _ in range(10):\n",
    "    print('=====경마장======')\n",
    "    sum1+=random.randint(1,4)\n",
    "    sum2+=random.randint(1,4)\n",
    "    sum3+=random.randint(1,4)\n",
    "    if(sum1>sum2 and sum1>sum3):\n",
    "        print('Winner :','1호 :',str(sum1))\n",
    "    elif(sum2>sum1 and sum2>sum3):\n",
    "        print('Winner :','2호 :',str(sum2))\n",
    "    elif(sum3>sum1 and sum3>sum2):\n",
    "        print('Winner :','3호 :',str(sum3))\n",
    "    else:\n",
    "        print('공동우승')\n",
    "    print('1호',str(sum1)+'):',end='')\n",
    "    for _ in range(sum1):\n",
    "        print('>',end=' ')\n",
    "    print(' ')\n",
    "    print('2호',str(sum2)+'):',end='')\n",
    "    for _ in range(sum2):\n",
    "        print('>',end=' ')\n",
    "    print(' ')\n",
    "    print('3호',str(sum3)+'):',end='')\n",
    "    for _ in range(sum3):\n",
    "        print('>',end=' ')\n",
    "    time.sleep(0.5)\n",
    "    clear_output(wait=True)"
   ]
  },
  {
   "cell_type": "code",
   "execution_count": 155,
   "id": "b09af220",
   "metadata": {},
   "outputs": [
    {
     "name": "stdout",
     "output_type": "stream",
     "text": [
      "hell\n"
     ]
    }
   ],
   "source": [
    "a=0\n",
    "if(a%5):\n",
    "    print('hello')\n",
    "else:\n",
    "    print('hell')"
   ]
  },
  {
   "cell_type": "code",
   "execution_count": 39,
   "id": "2db414e2",
   "metadata": {},
   "outputs": [
    {
     "name": "stdout",
     "output_type": "stream",
     "text": [
      "> > > > > > > > > > > > > > > > > > > > > > > > > > > > > > > > > > > > > > > > > > > > > > > > > > "
     ]
    }
   ],
   "source": [
    "for _ in range(50):\n",
    "    print('>',end=' ')"
   ]
  },
  {
   "cell_type": "code",
   "execution_count": 44,
   "id": "0f158be6",
   "metadata": {},
   "outputs": [
    {
     "name": "stdout",
     "output_type": "stream",
     "text": [
      "> > > > > > > > > > > > > > > > > > > > > > > > > > > > > > "
     ]
    }
   ],
   "source": [
    "for i in range(50):\n",
    "    if(i<30):\n",
    "        print('>', end=' ')"
   ]
  },
  {
   "cell_type": "code",
   "execution_count": 67,
   "id": "4d5f3fdb",
   "metadata": {},
   "outputs": [
    {
     "name": "stdout",
     "output_type": "stream",
     "text": [
      "465\n"
     ]
    }
   ],
   "source": [
    "sum=0\n",
    "for i in range(50):\n",
    "    if(i<=30):\n",
    "        sum+=i\n",
    "print(sum)"
   ]
  },
  {
   "cell_type": "code",
   "execution_count": 134,
   "id": "3b8d5f50",
   "metadata": {},
   "outputs": [
    {
     "name": "stdout",
     "output_type": "stream",
     "text": [
      "0 1 3 6 10 15 21 28 36 45 55 66 78 91 105 14\n"
     ]
    }
   ],
   "source": [
    "sum=0\n",
    "for i in range(50):\n",
    "    sum += i\n",
    "    print(sum, end=' ')\n",
    "    if(sum > 100):\n",
    "        print(i)\n",
    "        break"
   ]
  },
  {
   "cell_type": "code",
   "execution_count": 135,
   "id": "71634659",
   "metadata": {},
   "outputs": [
    {
     "name": "stdout",
     "output_type": "stream",
     "text": [
      "sum= 105 ,i= 99\n"
     ]
    }
   ],
   "source": [
    "sum = 0\n",
    "for i in range(100):\n",
    "    if(sum>100):\n",
    "        continue\n",
    "    sum+=i\n",
    "print('sum=',sum,',i=',i)"
   ]
  },
  {
   "cell_type": "code",
   "execution_count": 137,
   "id": "bc13f17b",
   "metadata": {},
   "outputs": [
    {
     "name": "stdout",
     "output_type": "stream",
     "text": [
      "0\n",
      "1\n",
      "2\n"
     ]
    }
   ],
   "source": [
    "i=0\n",
    "while(i<3):\n",
    "    print(i)\n",
    "    i=i+1"
   ]
  },
  {
   "cell_type": "code",
   "execution_count": 167,
   "id": "e0881cb7",
   "metadata": {
    "scrolled": true
   },
   "outputs": [
    {
     "name": "stdout",
     "output_type": "stream",
     "text": [
      "hello!\n",
      "hello!\n",
      "hello!\n",
      "hello!\n",
      "hello!\n",
      "hello!\n",
      "hello!\n",
      "hello!\n",
      "hello!\n",
      "hello!\n"
     ]
    }
   ],
   "source": [
    "def hello():\n",
    "    for i in range(10):\n",
    "        print('hello!')\n",
    "hello()"
   ]
  },
  {
   "cell_type": "code",
   "execution_count": 186,
   "id": "5978e5c8",
   "metadata": {},
   "outputs": [
    {
     "name": "stdout",
     "output_type": "stream",
     "text": [
      "hello! hello! hello! hello! hello! hello! hello! hello! hello! hello! "
     ]
    }
   ],
   "source": [
    "def hello(num):\n",
    "    for i in range(num):\n",
    "        print('hello!', end = ' ')\n",
    "hello(10)"
   ]
  },
  {
   "cell_type": "code",
   "execution_count": 15,
   "id": "89d0d91f",
   "metadata": {},
   "outputs": [
    {
     "name": "stdout",
     "output_type": "stream",
     "text": [
      "3 * 5 = 15\n"
     ]
    }
   ],
   "source": [
    "def mult(n1,n2):\n",
    "    return n1*n2\n",
    "print('3 * 5 =',mult(3,5))"
   ]
  },
  {
   "cell_type": "code",
   "execution_count": 16,
   "id": "5b580f24",
   "metadata": {},
   "outputs": [
    {
     "name": "stdout",
     "output_type": "stream",
     "text": [
      "3의 제곱 : 9\n"
     ]
    }
   ],
   "source": [
    "def square(n):\n",
    "    return n*n\n",
    "print('3의 제곱 :',square(3))"
   ]
  },
  {
   "cell_type": "code",
   "execution_count": 90,
   "id": "c8807109",
   "metadata": {
    "scrolled": false
   },
   "outputs": [
    {
     "name": "stdout",
     "output_type": "stream",
     "text": [
      "주사위 던진 값 : 5\n"
     ]
    }
   ],
   "source": [
    "def dice():\n",
    "    return random.randint(1,6)\n",
    "print('주사위 던진 값 :',dice())"
   ]
  },
  {
   "cell_type": "code",
   "execution_count": 98,
   "id": "21056942",
   "metadata": {},
   "outputs": [
    {
     "name": "stdout",
     "output_type": "stream",
     "text": [
      "a= 0\n"
     ]
    }
   ],
   "source": [
    "def plus(a,n):\n",
    "    a=a+5\n",
    "a=0\n",
    "plus(a,3)\n",
    "print('a=',a)"
   ]
  },
  {
   "cell_type": "code",
   "execution_count": null,
   "id": "3befec84",
   "metadata": {},
   "outputs": [],
   "source": []
  }
 ],
 "metadata": {
  "kernelspec": {
   "display_name": "Python 3 (ipykernel)",
   "language": "python",
   "name": "python3"
  },
  "language_info": {
   "codemirror_mode": {
    "name": "ipython",
    "version": 3
   },
   "file_extension": ".py",
   "mimetype": "text/x-python",
   "name": "python",
   "nbconvert_exporter": "python",
   "pygments_lexer": "ipython3",
   "version": "3.9.7"
  }
 },
 "nbformat": 4,
 "nbformat_minor": 5
}
